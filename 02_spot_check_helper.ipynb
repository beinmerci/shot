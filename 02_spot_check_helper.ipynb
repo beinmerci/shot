{
 "cells": [
  {
   "cell_type": "markdown",
   "metadata": {},
   "source": [
    "<h2> Problem type: Spot-check(shotgun) for Multiclass classification ML algorithm </h2>\n",
    "\n",
    "Spot-checking algorithms is about getting a quick assessment of a bunch of different algorithms on your machine learning problem so that you know what algorithms to focus on and what to discard."
   ]
  },
  {
   "cell_type": "markdown",
   "metadata": {},
   "source": [
    "This python book intend to compare multiple algorithms based on single scoring on cross_validate"
   ]
  },
  {
   "cell_type": "code",
   "execution_count": 54,
   "metadata": {},
   "outputs": [],
   "source": [
    "import warnings\n",
    "from numpy import mean\n",
    "from numpy import std\n",
    "from matplotlib import pyplot as plt\n",
    "import seaborn as sns\n",
    "from sklearn.model_selection import cross_validate\n",
    "from sklearn.preprocessing import StandardScaler\n",
    "from sklearn.preprocessing import MinMaxScaler\n",
    "from sklearn.pipeline import Pipeline\n",
    "\n",
    "from sklearn.linear_model import LogisticRegression,LogisticRegressionCV,RidgeClassifier,RidgeClassifierCV\n",
    "from sklearn.ensemble import RandomForestClassifier,ExtraTreesClassifier\n",
    "from sklearn.svm import LinearSVC\n",
    "from sklearn.tree import DecisionTreeClassifier,ExtraTreeClassifier\n",
    "from sklearn.neighbors import KNeighborsClassifier\n",
    "from sklearn.naive_bayes import GaussianNB\n",
    "from sklearn.neural_network import MLPClassifier\n",
    "\n",
    "from sklearn import metrics\n",
    "from sklearn.metrics.scorer import make_scorer,jaccard_score"
   ]
  },
  {
   "cell_type": "code",
   "execution_count": 55,
   "metadata": {},
   "outputs": [],
   "source": [
    "# Define multiple algorithms for multiclass classification problem.\n",
    "# Return : Dictionary with algorithm names and values\n",
    "def define_classifiers(classifiers=dict()):\n",
    "    \n",
    "    # linear models\n",
    "    classifiers['log_clf'] = LogisticRegression()\n",
    "    classifiers['logcv_clf'] = LogisticRegressionCV()\n",
    "    \n",
    "    alpha = [0.1, 1.0]\n",
    "    for a in alpha:\n",
    "        classifiers['ridge_clf-'+str(a)] = RidgeClassifier(alpha=a)\n",
    "\n",
    "\n",
    "    classifiers['ridgeCV_clf'] = RidgeClassifierCV(cv=3)\n",
    "    classifiers['lsvc_clf'] = LinearSVC()  \n",
    "    \n",
    "    # non-linear models\n",
    "    n_neighbors = list(range(1, 3, 2))\n",
    "    for k in n_neighbors:\n",
    "        classifiers['knn_clf-'+str(k)] = KNeighborsClassifier(n_neighbors=k)\n",
    "        \n",
    "    classifiers['dt_clf'] = DecisionTreeClassifier()\n",
    "    classifiers['et_clf'] = ExtraTreeClassifier() \n",
    "        \n",
    "    classifiers['gnb_clf'] = GaussianNB()\n",
    "    classifiers['mlp_clf'] = MLPClassifier(alpha=1, max_iter=1000)\n",
    "    \n",
    "    # ensemble models\n",
    "    n_trees = 100\n",
    "    classifiers['rf_ensemble_clf'] = RandomForestClassifier(n_estimators=n_trees)\n",
    "    classifiers['et_ensemble_clf'] = ExtraTreesClassifier(n_estimators=n_trees)\n",
    "    \n",
    "    print('Defined %d classifiers' % len(classifiers))\n",
    "    return classifiers"
   ]
  },
  {
   "cell_type": "code",
   "execution_count": 56,
   "metadata": {},
   "outputs": [],
   "source": [
    "# https://scikit-learn.org/stable/modules/model_evaluation.html#from-binary-to-multiclass-and-multilabel\n",
    "# macro, micro, weighted, none \n",
    "\n",
    "def scoring_parameter_multiclass(metrics=dict()):\n",
    "        metrics['accuracy'] = 'accuracy'                                 #OR metrics['accuracy'] = accuracy_score()\n",
    "        metrics['balanced_accuracy'] = 'balanced_accuracy'               #OR metrics['balanced_accuracy'] = balanced_accuracy_score()\n",
    "        metrics['f1'] = 'f1_macro'                                       # macro, micro, weighted, none \n",
    "        metrics['neg_log_loss'] = 'neg_log_loss'                         #OR metrics['neg_log_loss'] = log_loss()\n",
    "        metrics['precision'] = 'precision_macro'                         # macro, micro, weighted, none \n",
    "        metrics['recall'] = 'recall_macro'                               # macro, micro, weighted, none        \n",
    "        metrics['jaccard'] = make_scorer(jaccard_score, average='macro') # macro, micro, weighted, none\n",
    "       \n",
    "        return metrics"
   ]
  },
  {
   "cell_type": "code",
   "execution_count": 57,
   "metadata": {},
   "outputs": [],
   "source": [
    "# Automate different steps in machine learning\n",
    "# Return tuple with Step name and value/funtion\n",
    "def create_pipeline(model):\n",
    "    steps = list()\n",
    "    # standardization\n",
    "    steps.append(('standardize', StandardScaler()))\n",
    "    # normalization\n",
    "    steps.append(('normalize', MinMaxScaler()))\n",
    "    # the model\n",
    "    steps.append(('classifier',model))\n",
    "    # create pipeline\n",
    "    pipeline = Pipeline(steps=steps)\n",
    "    return pipeline"
   ]
  },
  {
   "cell_type": "markdown",
   "metadata": {},
   "source": [
    "cross_val_score, scoring parameter controls what metric they apply to the estimators evaluated.\n",
    "https://scikit-learn.org/stable/modules/model_evaluation.html"
   ]
  },
  {
   "cell_type": "code",
   "execution_count": 58,
   "metadata": {},
   "outputs": [],
   "source": [
    "# evaluate a single model\n",
    "# Returns : score evaluate a score by cross-validation\n",
    "def evaluate_model(X, y, model, folds, metric):\n",
    "    # create the pipeline\n",
    "    pipeline = create_pipeline(model)\n",
    "    # evaluate model\n",
    "    scores = cross_validate(pipeline, X, y, scoring=metric, cv=folds, return_train_score=False, n_jobs=-1)\n",
    "    return scores"
   ]
  },
  {
   "cell_type": "code",
   "execution_count": 59,
   "metadata": {},
   "outputs": [],
   "source": [
    "# evaluate a model and try to trap errors and and hide warnings\n",
    "# Returns : score evaluate a score by cross-validation\n",
    "def handle_warning(X, y, model, folds, metric):\n",
    "    try:\n",
    "        with warnings.catch_warnings():\n",
    "            warnings.filterwarnings(\"ignore\")\n",
    "            scores = evaluate_model(X, y, model, folds, metric)\n",
    "    except:\n",
    "        scores = None\n",
    "    return scores"
   ]
  },
  {
   "cell_type": "markdown",
   "metadata": {},
   "source": [
    "Different metric for multiclass classification\n",
    "https://scikit-learn.org/stable/modules/model_evaluation.html#from-binary-to-multiclass-and-multilabel"
   ]
  },
  {
   "cell_type": "code",
   "execution_count": 60,
   "metadata": {},
   "outputs": [],
   "source": [
    "# evaluate a dict of models {name:object}, returns {name:score}\n",
    "# Returns : {name,metrics:score}\n",
    "def evaluate_models(X, y, classifiers, metrics, folds=10):\n",
    "    results = dict()\n",
    "    for scoring_name,metric in metrics.items():\n",
    "        print('%s' % scoring_name)\n",
    "        for name, model in classifiers.items():\n",
    "        # evaluate the model\n",
    "            scores = handle_warning(X, y, model, folds, metric)\n",
    "            # show process\n",
    "            if scores is not None:\n",
    "                # store a result\n",
    "                results[name,scoring_name] = scores['test_score']\n",
    "                print('>%s: %.3f' % (name, mean(scores['test_score'])))\n",
    "            else:\n",
    "                print('>%s: error' % name)\n",
    "         \n",
    "    return results"
   ]
  },
  {
   "cell_type": "code",
   "execution_count": 61,
   "metadata": {},
   "outputs": [],
   "source": [
    "def summarize_results(results):\n",
    "    # check for no results\n",
    "    if len(results) == 0:\n",
    "        print('no results')\n",
    "        return\n",
    "    # Convert dict to dataframe\n",
    "    df = pd.DataFrame.from_dict(results)\n",
    "    # Unstack multiindx and convert to dataframe\n",
    "    df = df.unstack().to_frame()\n",
    "    # convert index to column\n",
    "    df.reset_index(inplace=True)\n",
    "    # rename column\n",
    "    df.columns = ['algorithms', 'metrics', 'number', 'score']\n",
    "\n",
    "    sns.set_context(\"paper\", font_scale=2)  ## increase font size\n",
    "    g = sns.catplot(x='algorithms', y='score', col=\"metrics\",data=df,col_wrap=2, kind=\"box\",height=3, aspect=2)\n",
    "    for i, ax in enumerate(g.fig.axes):   ## getting all axes of the fig object\n",
    "         ax.set_xticklabels(ax.get_xticklabels(), rotation = 90) ## xlabel rotation\n",
    "    g.savefig('output.png')"
   ]
  }
 ],
 "metadata": {
  "kernelspec": {
   "display_name": "Python 3",
   "language": "python",
   "name": "python3"
  },
  "language_info": {
   "codemirror_mode": {
    "name": "ipython",
    "version": 3
   },
   "file_extension": ".py",
   "mimetype": "text/x-python",
   "name": "python",
   "nbconvert_exporter": "python",
   "pygments_lexer": "ipython3",
   "version": "3.7.3"
  }
 },
 "nbformat": 4,
 "nbformat_minor": 2
}
